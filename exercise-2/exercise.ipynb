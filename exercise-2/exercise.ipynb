{
 "cells": [
  {
   "cell_type": "markdown",
   "metadata": {},
   "source": [
    "# Exercise 2\n",
    "Add the specified code for each code cell, running the cells _in order_."
   ]
  },
  {
   "cell_type": "markdown",
   "metadata": {},
   "source": [
    "Run the below cell to import `pandas` and `numpy`"
   ]
  },
  {
   "cell_type": "code",
   "execution_count": 1,
   "metadata": {
    "collapsed": true
   },
   "outputs": [],
   "source": [
    "import pandas as pd\n",
    "import numpy as np"
   ]
  },
  {
   "cell_type": "markdown",
   "metadata": {},
   "source": [
    "Create a Series of 100 employees **`names`** (\"Employee 1\", \"Employee 2\", ... \"Employee 100\"). _Tip:_ use a list comprehension to produce the list of strings by concatenating \"Employee\" with the numbers from a range.\n",
    "- Use the `head()` and `tail()` methods to print the first and last 3 employees to check your work."
   ]
  },
  {
   "cell_type": "code",
   "execution_count": 8,
   "metadata": {},
   "outputs": [
    {
     "name": "stdout",
     "output_type": "stream",
     "text": [
      "0    Employee1\n",
      "1    Employee2\n",
      "2    Employee3\n",
      "3    Employee4\n",
      "4    Employee5\n",
      "dtype: object\n",
      "97     Employee98\n",
      "98     Employee99\n",
      "99    Employee100\n",
      "dtype: object\n"
     ]
    }
   ],
   "source": [
    "employee_list = ['Employee'+ str(number) for number in range(1, 101)]\n",
    "names = pd.Series(employee_list)\n",
    "print(names.head())\n",
    "print(names.tail(3))"
   ]
  },
  {
   "cell_type": "markdown",
   "metadata": {},
   "source": [
    "Create a Series of 100 random salaries for the year 2016. These should be uniformly distributed between 40000 and 50000. _Hint:_ try using the [**numpy.random.uniform()**](https://docs.scipy.org/doc/numpy/reference/generated/numpy.random.uniform.html) function, or call the Python `random.uniform()` function repeatedly.\n",
    "- This is not a liveable wage in Seattle, and in fact is below US median :("
   ]
  },
  {
   "cell_type": "code",
   "execution_count": 12,
   "metadata": {},
   "outputs": [
    {
     "data": {
      "text/plain": [
       "0    42582.659535\n",
       "1    45775.797174\n",
       "2    41485.645726\n",
       "3    48821.199664\n",
       "4    46072.623863\n",
       "dtype: float64"
      ]
     },
     "execution_count": 12,
     "metadata": {},
     "output_type": "execute_result"
    }
   ],
   "source": [
    "salaries_2016 = pd.Series(np.random.uniform(40000, 50000, 100))\n",
    "salaries_2016.head()"
   ]
  },
  {
   "cell_type": "markdown",
   "metadata": {},
   "source": [
    "Create a Series of 100 salaries in 2017 that have changed from 2016 by a random amount between -5000 and 10000."
   ]
  },
  {
   "cell_type": "code",
   "execution_count": 15,
   "metadata": {},
   "outputs": [
    {
     "data": {
      "text/plain": [
       "0    46216.433346\n",
       "1    51730.679354\n",
       "2    48168.796094\n",
       "3    45237.196268\n",
       "4    45751.342872\n",
       "dtype: float64"
      ]
     },
     "execution_count": 15,
     "metadata": {},
     "output_type": "execute_result"
    }
   ],
   "source": [
    "salaries_2017 = salaries_2016 + np.random.uniform(-5000, 10000, 100)\n",
    "salaries_2017.head() "
   ]
  },
  {
   "cell_type": "markdown",
   "metadata": {},
   "source": [
    "Create a DataFrame **`salaries`** by combining the three Series you just made (employee names, 2016 salaries, and 2017 salaries)."
   ]
  },
  {
   "cell_type": "code",
   "execution_count": 19,
   "metadata": {},
   "outputs": [
    {
     "data": {
      "text/html": [
       "<div>\n",
       "<style>\n",
       "    .dataframe thead tr:only-child th {\n",
       "        text-align: right;\n",
       "    }\n",
       "\n",
       "    .dataframe thead th {\n",
       "        text-align: left;\n",
       "    }\n",
       "\n",
       "    .dataframe tbody tr th {\n",
       "        vertical-align: top;\n",
       "    }\n",
       "</style>\n",
       "<table border=\"1\" class=\"dataframe\">\n",
       "  <thead>\n",
       "    <tr style=\"text-align: right;\">\n",
       "      <th></th>\n",
       "      <th>name</th>\n",
       "      <th>salary_2016</th>\n",
       "      <th>salary_2017</th>\n",
       "    </tr>\n",
       "  </thead>\n",
       "  <tbody>\n",
       "    <tr>\n",
       "      <th>0</th>\n",
       "      <td>Employee1</td>\n",
       "      <td>42582.659535</td>\n",
       "      <td>46216.433346</td>\n",
       "    </tr>\n",
       "    <tr>\n",
       "      <th>1</th>\n",
       "      <td>Employee2</td>\n",
       "      <td>45775.797174</td>\n",
       "      <td>51730.679354</td>\n",
       "    </tr>\n",
       "    <tr>\n",
       "      <th>2</th>\n",
       "      <td>Employee3</td>\n",
       "      <td>41485.645726</td>\n",
       "      <td>48168.796094</td>\n",
       "    </tr>\n",
       "    <tr>\n",
       "      <th>3</th>\n",
       "      <td>Employee4</td>\n",
       "      <td>48821.199664</td>\n",
       "      <td>45237.196268</td>\n",
       "    </tr>\n",
       "    <tr>\n",
       "      <th>4</th>\n",
       "      <td>Employee5</td>\n",
       "      <td>46072.623863</td>\n",
       "      <td>45751.342872</td>\n",
       "    </tr>\n",
       "  </tbody>\n",
       "</table>\n",
       "</div>"
      ],
      "text/plain": [
       "        name   salary_2016   salary_2017\n",
       "0  Employee1  42582.659535  46216.433346\n",
       "1  Employee2  45775.797174  51730.679354\n",
       "2  Employee3  41485.645726  48168.796094\n",
       "3  Employee4  48821.199664  45237.196268\n",
       "4  Employee5  46072.623863  45751.342872"
      ]
     },
     "execution_count": 19,
     "metadata": {},
     "output_type": "execute_result"
    }
   ],
   "source": [
    "salaries = pd.DataFrame({\n",
    "    'name':names,\n",
    "    'salary_2016': salaries_2016,\n",
    "    'salary_2017': salaries_2017\n",
    "})"
   ]
  },
  {
   "cell_type": "markdown",
   "metadata": {},
   "source": [
    "Print the first 10 rows in the `salaries` DataFrame."
   ]
  },
  {
   "cell_type": "code",
   "execution_count": 20,
   "metadata": {},
   "outputs": [
    {
     "data": {
      "text/html": [
       "<div>\n",
       "<style>\n",
       "    .dataframe thead tr:only-child th {\n",
       "        text-align: right;\n",
       "    }\n",
       "\n",
       "    .dataframe thead th {\n",
       "        text-align: left;\n",
       "    }\n",
       "\n",
       "    .dataframe tbody tr th {\n",
       "        vertical-align: top;\n",
       "    }\n",
       "</style>\n",
       "<table border=\"1\" class=\"dataframe\">\n",
       "  <thead>\n",
       "    <tr style=\"text-align: right;\">\n",
       "      <th></th>\n",
       "      <th>name</th>\n",
       "      <th>salary_2016</th>\n",
       "      <th>salary_2017</th>\n",
       "    </tr>\n",
       "  </thead>\n",
       "  <tbody>\n",
       "    <tr>\n",
       "      <th>0</th>\n",
       "      <td>Employee1</td>\n",
       "      <td>42582.659535</td>\n",
       "      <td>46216.433346</td>\n",
       "    </tr>\n",
       "    <tr>\n",
       "      <th>1</th>\n",
       "      <td>Employee2</td>\n",
       "      <td>45775.797174</td>\n",
       "      <td>51730.679354</td>\n",
       "    </tr>\n",
       "    <tr>\n",
       "      <th>2</th>\n",
       "      <td>Employee3</td>\n",
       "      <td>41485.645726</td>\n",
       "      <td>48168.796094</td>\n",
       "    </tr>\n",
       "    <tr>\n",
       "      <th>3</th>\n",
       "      <td>Employee4</td>\n",
       "      <td>48821.199664</td>\n",
       "      <td>45237.196268</td>\n",
       "    </tr>\n",
       "    <tr>\n",
       "      <th>4</th>\n",
       "      <td>Employee5</td>\n",
       "      <td>46072.623863</td>\n",
       "      <td>45751.342872</td>\n",
       "    </tr>\n",
       "    <tr>\n",
       "      <th>5</th>\n",
       "      <td>Employee6</td>\n",
       "      <td>49255.714931</td>\n",
       "      <td>49022.215755</td>\n",
       "    </tr>\n",
       "    <tr>\n",
       "      <th>6</th>\n",
       "      <td>Employee7</td>\n",
       "      <td>41853.545271</td>\n",
       "      <td>37689.099530</td>\n",
       "    </tr>\n",
       "    <tr>\n",
       "      <th>7</th>\n",
       "      <td>Employee8</td>\n",
       "      <td>45303.441461</td>\n",
       "      <td>48755.239694</td>\n",
       "    </tr>\n",
       "    <tr>\n",
       "      <th>8</th>\n",
       "      <td>Employee9</td>\n",
       "      <td>48791.543049</td>\n",
       "      <td>49049.593268</td>\n",
       "    </tr>\n",
       "    <tr>\n",
       "      <th>9</th>\n",
       "      <td>Employee10</td>\n",
       "      <td>46779.763010</td>\n",
       "      <td>46815.696525</td>\n",
       "    </tr>\n",
       "  </tbody>\n",
       "</table>\n",
       "</div>"
      ],
      "text/plain": [
       "         name   salary_2016   salary_2017\n",
       "0   Employee1  42582.659535  46216.433346\n",
       "1   Employee2  45775.797174  51730.679354\n",
       "2   Employee3  41485.645726  48168.796094\n",
       "3   Employee4  48821.199664  45237.196268\n",
       "4   Employee5  46072.623863  45751.342872\n",
       "5   Employee6  49255.714931  49022.215755\n",
       "6   Employee7  41853.545271  37689.099530\n",
       "7   Employee8  45303.441461  48755.239694\n",
       "8   Employee9  48791.543049  49049.593268\n",
       "9  Employee10  46779.763010  46815.696525"
      ]
     },
     "execution_count": 20,
     "metadata": {},
     "output_type": "execute_result"
    }
   ],
   "source": [
    "salaries.head(10)"
   ]
  },
  {
   "cell_type": "markdown",
   "metadata": {},
   "source": [
    "Add a column **`change`** to your DataFrame that contains the difference in salary between 2017 and 2016."
   ]
  },
  {
   "cell_type": "code",
   "execution_count": 22,
   "metadata": {},
   "outputs": [
    {
     "data": {
      "text/html": [
       "<div>\n",
       "<style>\n",
       "    .dataframe thead tr:only-child th {\n",
       "        text-align: right;\n",
       "    }\n",
       "\n",
       "    .dataframe thead th {\n",
       "        text-align: left;\n",
       "    }\n",
       "\n",
       "    .dataframe tbody tr th {\n",
       "        vertical-align: top;\n",
       "    }\n",
       "</style>\n",
       "<table border=\"1\" class=\"dataframe\">\n",
       "  <thead>\n",
       "    <tr style=\"text-align: right;\">\n",
       "      <th></th>\n",
       "      <th>name</th>\n",
       "      <th>salary_2016</th>\n",
       "      <th>salary_2017</th>\n",
       "      <th>change</th>\n",
       "    </tr>\n",
       "  </thead>\n",
       "  <tbody>\n",
       "    <tr>\n",
       "      <th>0</th>\n",
       "      <td>Employee1</td>\n",
       "      <td>42582.659535</td>\n",
       "      <td>46216.433346</td>\n",
       "      <td>3633.773811</td>\n",
       "    </tr>\n",
       "    <tr>\n",
       "      <th>1</th>\n",
       "      <td>Employee2</td>\n",
       "      <td>45775.797174</td>\n",
       "      <td>51730.679354</td>\n",
       "      <td>5954.882180</td>\n",
       "    </tr>\n",
       "    <tr>\n",
       "      <th>2</th>\n",
       "      <td>Employee3</td>\n",
       "      <td>41485.645726</td>\n",
       "      <td>48168.796094</td>\n",
       "      <td>6683.150368</td>\n",
       "    </tr>\n",
       "    <tr>\n",
       "      <th>3</th>\n",
       "      <td>Employee4</td>\n",
       "      <td>48821.199664</td>\n",
       "      <td>45237.196268</td>\n",
       "      <td>-3584.003396</td>\n",
       "    </tr>\n",
       "    <tr>\n",
       "      <th>4</th>\n",
       "      <td>Employee5</td>\n",
       "      <td>46072.623863</td>\n",
       "      <td>45751.342872</td>\n",
       "      <td>-321.280991</td>\n",
       "    </tr>\n",
       "    <tr>\n",
       "      <th>5</th>\n",
       "      <td>Employee6</td>\n",
       "      <td>49255.714931</td>\n",
       "      <td>49022.215755</td>\n",
       "      <td>-233.499176</td>\n",
       "    </tr>\n",
       "    <tr>\n",
       "      <th>6</th>\n",
       "      <td>Employee7</td>\n",
       "      <td>41853.545271</td>\n",
       "      <td>37689.099530</td>\n",
       "      <td>-4164.445741</td>\n",
       "    </tr>\n",
       "    <tr>\n",
       "      <th>7</th>\n",
       "      <td>Employee8</td>\n",
       "      <td>45303.441461</td>\n",
       "      <td>48755.239694</td>\n",
       "      <td>3451.798233</td>\n",
       "    </tr>\n",
       "    <tr>\n",
       "      <th>8</th>\n",
       "      <td>Employee9</td>\n",
       "      <td>48791.543049</td>\n",
       "      <td>49049.593268</td>\n",
       "      <td>258.050220</td>\n",
       "    </tr>\n",
       "    <tr>\n",
       "      <th>9</th>\n",
       "      <td>Employee10</td>\n",
       "      <td>46779.763010</td>\n",
       "      <td>46815.696525</td>\n",
       "      <td>35.933516</td>\n",
       "    </tr>\n",
       "  </tbody>\n",
       "</table>\n",
       "</div>"
      ],
      "text/plain": [
       "         name   salary_2016   salary_2017       change\n",
       "0   Employee1  42582.659535  46216.433346  3633.773811\n",
       "1   Employee2  45775.797174  51730.679354  5954.882180\n",
       "2   Employee3  41485.645726  48168.796094  6683.150368\n",
       "3   Employee4  48821.199664  45237.196268 -3584.003396\n",
       "4   Employee5  46072.623863  45751.342872  -321.280991\n",
       "5   Employee6  49255.714931  49022.215755  -233.499176\n",
       "6   Employee7  41853.545271  37689.099530 -4164.445741\n",
       "7   Employee8  45303.441461  48755.239694  3451.798233\n",
       "8   Employee9  48791.543049  49049.593268   258.050220\n",
       "9  Employee10  46779.763010  46815.696525    35.933516"
      ]
     },
     "execution_count": 22,
     "metadata": {},
     "output_type": "execute_result"
    }
   ],
   "source": [
    "salaries['change'] = salaries['salary_2017'] - salaries['salary_2016']\n",
    "salaries.head(10)"
   ]
  },
  {
   "cell_type": "markdown",
   "metadata": {},
   "source": [
    "Add a column **`got_raise`** to your DataFrame that is `True` if the employee got a raise (their salary increased) in 2017."
   ]
  },
  {
   "cell_type": "code",
   "execution_count": 27,
   "metadata": {},
   "outputs": [
    {
     "data": {
      "text/html": [
       "<div>\n",
       "<style>\n",
       "    .dataframe thead tr:only-child th {\n",
       "        text-align: right;\n",
       "    }\n",
       "\n",
       "    .dataframe thead th {\n",
       "        text-align: left;\n",
       "    }\n",
       "\n",
       "    .dataframe tbody tr th {\n",
       "        vertical-align: top;\n",
       "    }\n",
       "</style>\n",
       "<table border=\"1\" class=\"dataframe\">\n",
       "  <thead>\n",
       "    <tr style=\"text-align: right;\">\n",
       "      <th></th>\n",
       "      <th>name</th>\n",
       "      <th>salary_2016</th>\n",
       "      <th>salary_2017</th>\n",
       "      <th>change</th>\n",
       "      <th>got_raise</th>\n",
       "    </tr>\n",
       "  </thead>\n",
       "  <tbody>\n",
       "    <tr>\n",
       "      <th>0</th>\n",
       "      <td>Employee1</td>\n",
       "      <td>42582.659535</td>\n",
       "      <td>46216.433346</td>\n",
       "      <td>3633.773811</td>\n",
       "      <td>True</td>\n",
       "    </tr>\n",
       "    <tr>\n",
       "      <th>1</th>\n",
       "      <td>Employee2</td>\n",
       "      <td>45775.797174</td>\n",
       "      <td>51730.679354</td>\n",
       "      <td>5954.882180</td>\n",
       "      <td>True</td>\n",
       "    </tr>\n",
       "    <tr>\n",
       "      <th>2</th>\n",
       "      <td>Employee3</td>\n",
       "      <td>41485.645726</td>\n",
       "      <td>48168.796094</td>\n",
       "      <td>6683.150368</td>\n",
       "      <td>True</td>\n",
       "    </tr>\n",
       "    <tr>\n",
       "      <th>3</th>\n",
       "      <td>Employee4</td>\n",
       "      <td>48821.199664</td>\n",
       "      <td>45237.196268</td>\n",
       "      <td>-3584.003396</td>\n",
       "      <td>False</td>\n",
       "    </tr>\n",
       "    <tr>\n",
       "      <th>4</th>\n",
       "      <td>Employee5</td>\n",
       "      <td>46072.623863</td>\n",
       "      <td>45751.342872</td>\n",
       "      <td>-321.280991</td>\n",
       "      <td>False</td>\n",
       "    </tr>\n",
       "  </tbody>\n",
       "</table>\n",
       "</div>"
      ],
      "text/plain": [
       "        name   salary_2016   salary_2017       change  got_raise\n",
       "0  Employee1  42582.659535  46216.433346  3633.773811       True\n",
       "1  Employee2  45775.797174  51730.679354  5954.882180       True\n",
       "2  Employee3  41485.645726  48168.796094  6683.150368       True\n",
       "3  Employee4  48821.199664  45237.196268 -3584.003396      False\n",
       "4  Employee5  46072.623863  45751.342872  -321.280991      False"
      ]
     },
     "execution_count": 27,
     "metadata": {},
     "output_type": "execute_result"
    }
   ],
   "source": [
    "salaries['got_raise'] = salaries.change > 0 \n",
    "salaries.head()"
   ]
  },
  {
   "cell_type": "markdown",
   "metadata": {},
   "source": [
    "**Retrieve values from the `salaries` DataFrame to answer the following questions. Try to get as specific a value as possible (e.g., a single value rather than the whole row!)**"
   ]
  },
  {
   "cell_type": "markdown",
   "metadata": {},
   "source": [
    "What was the 2017 salary of Employee 57?"
   ]
  },
  {
   "cell_type": "code",
   "execution_count": 28,
   "metadata": {},
   "outputs": [
    {
     "data": {
      "text/plain": [
       "name           Employee57\n",
       "salary_2016       46696.9\n",
       "salary_2017       50306.1\n",
       "change            3609.23\n",
       "got_raise            True\n",
       "Name: 56, dtype: object"
      ]
     },
     "execution_count": 28,
     "metadata": {},
     "output_type": "execute_result"
    }
   ],
   "source": [
    "salaries.iloc[56]"
   ]
  },
  {
   "cell_type": "markdown",
   "metadata": {},
   "source": [
    "How many employees got a raise? (It should be around 2/3rds)"
   ]
  },
  {
   "cell_type": "code",
   "execution_count": 29,
   "metadata": {},
   "outputs": [
    {
     "data": {
      "text/plain": [
       "name           71\n",
       "salary_2016    71\n",
       "salary_2017    71\n",
       "change         71\n",
       "got_raise      71\n",
       "dtype: int64"
      ]
     },
     "execution_count": 29,
     "metadata": {},
     "output_type": "execute_result"
    }
   ],
   "source": [
    "salaries[salaries.got_raise == True].count()"
   ]
  },
  {
   "cell_type": "code",
   "execution_count": 31,
   "metadata": {},
   "outputs": [
    {
     "data": {
      "text/plain": [
       "71"
      ]
     },
     "execution_count": 31,
     "metadata": {},
     "output_type": "execute_result"
    }
   ],
   "source": [
    "sum(salaries.got_raise)"
   ]
  },
  {
   "cell_type": "markdown",
   "metadata": {},
   "source": [
    "What was the amount of the largest raise?"
   ]
  },
  {
   "cell_type": "code",
   "execution_count": null,
   "metadata": {
    "collapsed": true
   },
   "outputs": [],
   "source": []
  },
  {
   "cell_type": "markdown",
   "metadata": {},
   "source": [
    "What was the \"name\" of the employee who received the highest raise?"
   ]
  },
  {
   "cell_type": "code",
   "execution_count": null,
   "metadata": {
    "collapsed": true
   },
   "outputs": [],
   "source": []
  },
  {
   "cell_type": "markdown",
   "metadata": {},
   "source": [
    "What is the name and 2017 salary of the person who received the largest payment (decrease in salary) between the two years?"
   ]
  },
  {
   "cell_type": "code",
   "execution_count": null,
   "metadata": {
    "collapsed": true
   },
   "outputs": [],
   "source": []
  }
 ],
 "metadata": {
  "kernelspec": {
   "display_name": "Python 3",
   "language": "python",
   "name": "python3"
  },
  "language_info": {
   "codemirror_mode": {
    "name": "ipython",
    "version": 3
   },
   "file_extension": ".py",
   "mimetype": "text/x-python",
   "name": "python",
   "nbconvert_exporter": "python",
   "pygments_lexer": "ipython3",
   "version": "3.6.2"
  },
  "toc": {
   "colors": {
    "hover_highlight": "#DAA520",
    "running_highlight": "#FF0000",
    "selected_highlight": "#FFD700"
   },
   "moveMenuLeft": true,
   "nav_menu": {
    "height": "30px",
    "width": "252px"
   },
   "navigate_menu": true,
   "number_sections": true,
   "sideBar": true,
   "threshold": 4,
   "toc_cell": false,
   "toc_section_display": "block",
   "toc_window_display": false,
   "widenNotebook": false
  }
 },
 "nbformat": 4,
 "nbformat_minor": 2
}
