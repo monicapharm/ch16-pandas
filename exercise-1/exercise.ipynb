{
 "cells": [
  {
   "cell_type": "markdown",
   "metadata": {},
   "source": [
    "# Exercise 1\n",
    "Add the specified code for each code cell, running the cells _in order_."
   ]
  },
  {
   "cell_type": "markdown",
   "metadata": {},
   "source": [
    "Import both the **`pandas`** and **`numpy`** libraries."
   ]
  },
  {
   "cell_type": "code",
   "execution_count": 1,
   "metadata": {
    "collapsed": true
   },
   "outputs": [],
   "source": [
    "import pandas as pd\n",
    "import numpy as np"
   ]
  },
  {
   "cell_type": "markdown",
   "metadata": {},
   "source": [
    "Create a variable **`nums`** that is a _Series_ of the numbers 5, 2, 6, 2, 1, 7. Print the variable."
   ]
  },
  {
   "cell_type": "code",
   "execution_count": 2,
   "metadata": {},
   "outputs": [
    {
     "data": {
      "text/plain": [
       "0    5\n",
       "1    2\n",
       "2    6\n",
       "3    2\n",
       "4    1\n",
       "5    7\n",
       "dtype: int64"
      ]
     },
     "execution_count": 2,
     "metadata": {},
     "output_type": "execute_result"
    }
   ],
   "source": [
    "nums = pd.Series([5, 2, 6, 2, 1, 7])\n",
    "nums"
   ]
  },
  {
   "cell_type": "markdown",
   "metadata": {},
   "source": [
    "Output the statistical _median_ of the `nums`. _Hint:_ use the `median()` method."
   ]
  },
  {
   "cell_type": "code",
   "execution_count": 3,
   "metadata": {},
   "outputs": [
    {
     "data": {
      "text/plain": [
       "3.5"
      ]
     },
     "execution_count": 3,
     "metadata": {},
     "output_type": "execute_result"
    }
   ],
   "source": [
    "nums.median()"
   ]
  },
  {
   "cell_type": "markdown",
   "metadata": {},
   "source": [
    "Change the _index labels_ of the `nums` series to the letters `a` through `f`. Then print or output the `nums` variable. _Hint:_ assign a list to the `index` attribute."
   ]
  },
  {
   "cell_type": "code",
   "execution_count": 4,
   "metadata": {},
   "outputs": [
    {
     "data": {
      "text/plain": [
       "a    5\n",
       "b    2\n",
       "c    6\n",
       "d    2\n",
       "e    1\n",
       "f    7\n",
       "dtype: int64"
      ]
     },
     "execution_count": 4,
     "metadata": {},
     "output_type": "execute_result"
    }
   ],
   "source": [
    "nums.index = ['a','b','c','d','e','f']\n",
    "nums"
   ]
  },
  {
   "cell_type": "markdown",
   "metadata": {},
   "source": [
    "Create a variable **`monotonic`** that is a Series of the numbers 1 through 6 (inclusive). Print the variable."
   ]
  },
  {
   "cell_type": "code",
   "execution_count": 5,
   "metadata": {},
   "outputs": [
    {
     "data": {
      "text/plain": [
       "0    1\n",
       "1    2\n",
       "2    3\n",
       "3    4\n",
       "4    5\n",
       "5    6\n",
       "dtype: int64"
      ]
     },
     "execution_count": 5,
     "metadata": {},
     "output_type": "execute_result"
    }
   ],
   "source": [
    "monotonic = pd.Series([1,2,3,4,5,6])\n",
    "monotonic"
   ]
  },
  {
   "cell_type": "markdown",
   "metadata": {},
   "source": [
    "Try to _add_ the `nums` and `monotonic` Series. What happens? Can you interpret why you got the results you did?"
   ]
  },
  {
   "cell_type": "code",
   "execution_count": 6,
   "metadata": {},
   "outputs": [
    {
     "data": {
      "text/plain": [
       "a   NaN\n",
       "b   NaN\n",
       "c   NaN\n",
       "d   NaN\n",
       "e   NaN\n",
       "f   NaN\n",
       "0   NaN\n",
       "1   NaN\n",
       "2   NaN\n",
       "3   NaN\n",
       "4   NaN\n",
       "5   NaN\n",
       "dtype: float64"
      ]
     },
     "execution_count": 6,
     "metadata": {},
     "output_type": "execute_result"
    }
   ],
   "source": [
    "nums + monotonic"
   ]
  },
  {
   "cell_type": "markdown",
   "metadata": {},
   "source": [
    "Change the `nums` index back to the values 0 through 5, then add `nums` and `monotonic` again, saving the resulting value in the `nums` variable. Print the updated variable."
   ]
  },
  {
   "cell_type": "code",
   "execution_count": 7,
   "metadata": {},
   "outputs": [
    {
     "data": {
      "text/plain": [
       "0     6\n",
       "1     4\n",
       "2     9\n",
       "3     6\n",
       "4     6\n",
       "5    13\n",
       "dtype: int64"
      ]
     },
     "execution_count": 7,
     "metadata": {},
     "output_type": "execute_result"
    }
   ],
   "source": [
    "nums.index = [0,1,2,3,4,5]\n",
    "nums = nums + monotonic\n",
    "nums"
   ]
  },
  {
   "cell_type": "markdown",
   "metadata": {},
   "source": [
    "Create a Series **`small_nums`** that contains all of the values of `nums` that are less than or equal to 10. Use _boolean indexing_. Print the variable. "
   ]
  },
  {
   "cell_type": "code",
   "execution_count": 9,
   "metadata": {},
   "outputs": [
    {
     "data": {
      "text/plain": [
       "0    6\n",
       "1    4\n",
       "2    9\n",
       "3    6\n",
       "4    6\n",
       "dtype: int64"
      ]
     },
     "execution_count": 9,
     "metadata": {},
     "output_type": "execute_result"
    }
   ],
   "source": [
    "small_nums = nums[nums <= 10] \n",
    "small_nums"
   ]
  },
  {
   "cell_type": "markdown",
   "metadata": {},
   "source": [
    "Print whether or not _any_ of the elements in `nums` are divisible by 5."
   ]
  },
  {
   "cell_type": "code",
   "execution_count": 10,
   "metadata": {},
   "outputs": [
    {
     "data": {
      "text/plain": [
       "0    False\n",
       "1    False\n",
       "2    False\n",
       "3    False\n",
       "4    False\n",
       "5    False\n",
       "dtype: bool"
      ]
     },
     "execution_count": 10,
     "metadata": {},
     "output_type": "execute_result"
    }
   ],
   "source": [
    "nums % 5 == 0"
   ]
  },
  {
   "cell_type": "markdown",
   "metadata": {},
   "source": [
    "Replace the values in `num` that are less than or equal to `10` with the number `0`. _Hint:_ assign a value to the result of boolean indexing. Print the updated `nums` variable."
   ]
  },
  {
   "cell_type": "code",
   "execution_count": 17,
   "metadata": {},
   "outputs": [
    {
     "data": {
      "text/plain": [
       "0     0\n",
       "1     0\n",
       "2     0\n",
       "3     0\n",
       "4     0\n",
       "5    13\n",
       "dtype: int64"
      ]
     },
     "execution_count": 17,
     "metadata": {},
     "output_type": "execute_result"
    }
   ],
   "source": [
    "nums[nums <= 10] = 0\n",
    "nums"
   ]
  },
  {
   "cell_type": "markdown",
   "metadata": {},
   "source": [
    "Replace every alternate value in `num` with the number `511`. Print the updated `nums` variable."
   ]
  },
  {
   "cell_type": "code",
   "execution_count": 19,
   "metadata": {},
   "outputs": [
    {
     "data": {
      "text/plain": [
       "0    511\n",
       "1    511\n",
       "2    511\n",
       "3    511\n",
       "4    511\n",
       "5     13\n",
       "dtype: int64"
      ]
     },
     "execution_count": 19,
     "metadata": {},
     "output_type": "execute_result"
    }
   ],
   "source": [
    "nums[nums == 0] = 511\n",
    "nums"
   ]
  },
  {
   "cell_type": "markdown",
   "metadata": {},
   "source": [
    "Create a Series **`x`** that is a range of numbers from `-5` to `10` in `.1` increments. _Hint_ start with -50 to 100, then divide by 10... or use the `numpy.arange()` function!"
   ]
  },
  {
   "cell_type": "code",
   "execution_count": 25,
   "metadata": {},
   "outputs": [
    {
     "data": {
      "text/plain": [
       "0     -5.0\n",
       "1     -4.9\n",
       "2     -4.8\n",
       "3     -4.7\n",
       "4     -4.6\n",
       "5     -4.5\n",
       "6     -4.4\n",
       "7     -4.3\n",
       "8     -4.2\n",
       "9     -4.1\n",
       "10    -4.0\n",
       "11    -3.9\n",
       "12    -3.8\n",
       "13    -3.7\n",
       "14    -3.6\n",
       "15    -3.5\n",
       "16    -3.4\n",
       "17    -3.3\n",
       "18    -3.2\n",
       "19    -3.1\n",
       "20    -3.0\n",
       "21    -2.9\n",
       "22    -2.8\n",
       "23    -2.7\n",
       "24    -2.6\n",
       "25    -2.5\n",
       "26    -2.4\n",
       "27    -2.3\n",
       "28    -2.2\n",
       "29    -2.1\n",
       "      ... \n",
       "120    7.0\n",
       "121    7.1\n",
       "122    7.2\n",
       "123    7.3\n",
       "124    7.4\n",
       "125    7.5\n",
       "126    7.6\n",
       "127    7.7\n",
       "128    7.8\n",
       "129    7.9\n",
       "130    8.0\n",
       "131    8.1\n",
       "132    8.2\n",
       "133    8.3\n",
       "134    8.4\n",
       "135    8.5\n",
       "136    8.6\n",
       "137    8.7\n",
       "138    8.8\n",
       "139    8.9\n",
       "140    9.0\n",
       "141    9.1\n",
       "142    9.2\n",
       "143    9.3\n",
       "144    9.4\n",
       "145    9.5\n",
       "146    9.6\n",
       "147    9.7\n",
       "148    9.8\n",
       "149    9.9\n",
       "Length: 150, dtype: float64"
      ]
     },
     "execution_count": 25,
     "metadata": {},
     "output_type": "execute_result"
    }
   ],
   "source": [
    "x = pd.Series(range(-50, 100))\n",
    "x = x/10\n",
    "x"
   ]
  },
  {
   "cell_type": "markdown",
   "metadata": {},
   "source": [
    "Create a Series **`wave`** by multiplying the `sin()` of each element by the `cos()` of the element, and then adding the `sin()` of that element to the result. _Hint_ create `sin_wave` and `cos_wave` variables to use, or use a lambda-style anonymous function!"
   ]
  },
  {
   "cell_type": "code",
   "execution_count": null,
   "metadata": {
    "collapsed": true
   },
   "outputs": [],
   "source": [
    " "
   ]
  },
  {
   "cell_type": "markdown",
   "metadata": {},
   "source": [
    "Use the `plot()` method to create a simply line plot of your `wave` Series! Include the tag\n",
    "```\n",
    "%matplotlib inline\n",
    "```\n",
    "first to have it show up in Jupyter."
   ]
  },
  {
   "cell_type": "code",
   "execution_count": null,
   "metadata": {
    "collapsed": true
   },
   "outputs": [],
   "source": []
  }
 ],
 "metadata": {
  "kernelspec": {
   "display_name": "Python 3",
   "language": "python",
   "name": "python3"
  },
  "language_info": {
   "codemirror_mode": {
    "name": "ipython",
    "version": 3
   },
   "file_extension": ".py",
   "mimetype": "text/x-python",
   "name": "python",
   "nbconvert_exporter": "python",
   "pygments_lexer": "ipython3",
   "version": "3.6.2"
  },
  "toc": {
   "colors": {
    "hover_highlight": "#DAA520",
    "running_highlight": "#FF0000",
    "selected_highlight": "#FFD700"
   },
   "moveMenuLeft": true,
   "nav_menu": {
    "height": "30px",
    "width": "252px"
   },
   "navigate_menu": true,
   "number_sections": true,
   "sideBar": true,
   "threshold": 4,
   "toc_cell": false,
   "toc_section_display": "block",
   "toc_window_display": false,
   "widenNotebook": false
  }
 },
 "nbformat": 4,
 "nbformat_minor": 2
}
